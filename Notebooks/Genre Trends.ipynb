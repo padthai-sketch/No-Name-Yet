{
 "cells": [
  {
   "cell_type": "code",
   "execution_count": 15,
   "metadata": {},
   "outputs": [],
   "source": [
    "# No short films genre\n",
    "\n",
    "import numpy as np\n",
    "import pandas as pd\n",
    "import hvplot.pandas\n",
    "import holoviews as hv\n",
    "import matplotlib.pyplot as plt"
   ]
  },
  {
   "cell_type": "code",
   "execution_count": 2,
   "metadata": {
    "scrolled": true
   },
   "outputs": [
    {
     "data": {
      "text/html": [
       "<div>\n",
       "<style scoped>\n",
       "    .dataframe tbody tr th:only-of-type {\n",
       "        vertical-align: middle;\n",
       "    }\n",
       "\n",
       "    .dataframe tbody tr th {\n",
       "        vertical-align: top;\n",
       "    }\n",
       "\n",
       "    .dataframe thead th {\n",
       "        text-align: right;\n",
       "    }\n",
       "</style>\n",
       "<table border=\"1\" class=\"dataframe\">\n",
       "  <thead>\n",
       "    <tr style=\"text-align: right;\">\n",
       "      <th></th>\n",
       "      <th>director_name</th>\n",
       "      <th>num_critic_for_reviews</th>\n",
       "      <th>duration</th>\n",
       "      <th>director_facebook_likes</th>\n",
       "      <th>actor_3_facebook_likes</th>\n",
       "      <th>actor_2_name</th>\n",
       "      <th>actor_1_facebook_likes</th>\n",
       "      <th>gross</th>\n",
       "      <th>actor_1_name</th>\n",
       "      <th>movie_title</th>\n",
       "      <th>...</th>\n",
       "      <th>Sport</th>\n",
       "      <th>Crime</th>\n",
       "      <th>Horror</th>\n",
       "      <th>War</th>\n",
       "      <th>Biography</th>\n",
       "      <th>Music</th>\n",
       "      <th>Documentary</th>\n",
       "      <th>Short</th>\n",
       "      <th>Film-Noir</th>\n",
       "      <th>ROI</th>\n",
       "    </tr>\n",
       "  </thead>\n",
       "  <tbody>\n",
       "    <tr>\n",
       "      <th>0</th>\n",
       "      <td>James Cameron</td>\n",
       "      <td>723</td>\n",
       "      <td>178</td>\n",
       "      <td>0</td>\n",
       "      <td>855.0</td>\n",
       "      <td>Joel David Moore</td>\n",
       "      <td>1000.0</td>\n",
       "      <td>760505847</td>\n",
       "      <td>CCH Pounder</td>\n",
       "      <td>Avatar</td>\n",
       "      <td>...</td>\n",
       "      <td>0</td>\n",
       "      <td>0</td>\n",
       "      <td>0</td>\n",
       "      <td>0</td>\n",
       "      <td>0</td>\n",
       "      <td>0</td>\n",
       "      <td>0</td>\n",
       "      <td>0</td>\n",
       "      <td>0</td>\n",
       "      <td>523505847</td>\n",
       "    </tr>\n",
       "    <tr>\n",
       "      <th>1</th>\n",
       "      <td>Gore Verbinski</td>\n",
       "      <td>302</td>\n",
       "      <td>169</td>\n",
       "      <td>563</td>\n",
       "      <td>1000.0</td>\n",
       "      <td>Orlando Bloom</td>\n",
       "      <td>40000.0</td>\n",
       "      <td>309404152</td>\n",
       "      <td>Johnny Depp</td>\n",
       "      <td>Pirates of the Caribbean: At World's End</td>\n",
       "      <td>...</td>\n",
       "      <td>0</td>\n",
       "      <td>0</td>\n",
       "      <td>0</td>\n",
       "      <td>0</td>\n",
       "      <td>0</td>\n",
       "      <td>0</td>\n",
       "      <td>0</td>\n",
       "      <td>0</td>\n",
       "      <td>0</td>\n",
       "      <td>9404152</td>\n",
       "    </tr>\n",
       "    <tr>\n",
       "      <th>2</th>\n",
       "      <td>Sam Mendes</td>\n",
       "      <td>602</td>\n",
       "      <td>148</td>\n",
       "      <td>0</td>\n",
       "      <td>161.0</td>\n",
       "      <td>Rory Kinnear</td>\n",
       "      <td>11000.0</td>\n",
       "      <td>200074175</td>\n",
       "      <td>Christoph Waltz</td>\n",
       "      <td>Spectre</td>\n",
       "      <td>...</td>\n",
       "      <td>0</td>\n",
       "      <td>0</td>\n",
       "      <td>0</td>\n",
       "      <td>0</td>\n",
       "      <td>0</td>\n",
       "      <td>0</td>\n",
       "      <td>0</td>\n",
       "      <td>0</td>\n",
       "      <td>0</td>\n",
       "      <td>-44925825</td>\n",
       "    </tr>\n",
       "    <tr>\n",
       "      <th>3</th>\n",
       "      <td>Christopher Nolan</td>\n",
       "      <td>813</td>\n",
       "      <td>164</td>\n",
       "      <td>22000</td>\n",
       "      <td>23000.0</td>\n",
       "      <td>Christian Bale</td>\n",
       "      <td>27000.0</td>\n",
       "      <td>448130642</td>\n",
       "      <td>Tom Hardy</td>\n",
       "      <td>The Dark Knight Rises</td>\n",
       "      <td>...</td>\n",
       "      <td>0</td>\n",
       "      <td>0</td>\n",
       "      <td>0</td>\n",
       "      <td>0</td>\n",
       "      <td>0</td>\n",
       "      <td>0</td>\n",
       "      <td>0</td>\n",
       "      <td>0</td>\n",
       "      <td>0</td>\n",
       "      <td>198130642</td>\n",
       "    </tr>\n",
       "    <tr>\n",
       "      <th>4</th>\n",
       "      <td>Andrew Stanton</td>\n",
       "      <td>462</td>\n",
       "      <td>132</td>\n",
       "      <td>475</td>\n",
       "      <td>530.0</td>\n",
       "      <td>Samantha Morton</td>\n",
       "      <td>640.0</td>\n",
       "      <td>73058679</td>\n",
       "      <td>Daryl Sabara</td>\n",
       "      <td>John Carter</td>\n",
       "      <td>...</td>\n",
       "      <td>0</td>\n",
       "      <td>0</td>\n",
       "      <td>0</td>\n",
       "      <td>0</td>\n",
       "      <td>0</td>\n",
       "      <td>0</td>\n",
       "      <td>0</td>\n",
       "      <td>0</td>\n",
       "      <td>0</td>\n",
       "      <td>-190641321</td>\n",
       "    </tr>\n",
       "  </tbody>\n",
       "</table>\n",
       "<p>5 rows × 50 columns</p>\n",
       "</div>"
      ],
      "text/plain": [
       "       director_name  num_critic_for_reviews  duration  \\\n",
       "0      James Cameron                     723       178   \n",
       "1     Gore Verbinski                     302       169   \n",
       "2         Sam Mendes                     602       148   \n",
       "3  Christopher Nolan                     813       164   \n",
       "4     Andrew Stanton                     462       132   \n",
       "\n",
       "   director_facebook_likes  actor_3_facebook_likes      actor_2_name  \\\n",
       "0                        0                   855.0  Joel David Moore   \n",
       "1                      563                  1000.0     Orlando Bloom   \n",
       "2                        0                   161.0      Rory Kinnear   \n",
       "3                    22000                 23000.0    Christian Bale   \n",
       "4                      475                   530.0   Samantha Morton   \n",
       "\n",
       "   actor_1_facebook_likes      gross     actor_1_name  \\\n",
       "0                  1000.0  760505847      CCH Pounder   \n",
       "1                 40000.0  309404152      Johnny Depp   \n",
       "2                 11000.0  200074175  Christoph Waltz   \n",
       "3                 27000.0  448130642        Tom Hardy   \n",
       "4                   640.0   73058679     Daryl Sabara   \n",
       "\n",
       "                                movie_title  ...  Sport  Crime Horror  War  \\\n",
       "0                                    Avatar  ...      0      0      0    0   \n",
       "1  Pirates of the Caribbean: At World's End  ...      0      0      0    0   \n",
       "2                                   Spectre  ...      0      0      0    0   \n",
       "3                     The Dark Knight Rises  ...      0      0      0    0   \n",
       "4                               John Carter  ...      0      0      0    0   \n",
       "\n",
       "  Biography Music  Documentary Short Film-Noir        ROI  \n",
       "0         0     0            0     0         0  523505847  \n",
       "1         0     0            0     0         0    9404152  \n",
       "2         0     0            0     0         0  -44925825  \n",
       "3         0     0            0     0         0  198130642  \n",
       "4         0     0            0     0         0 -190641321  \n",
       "\n",
       "[5 rows x 50 columns]"
      ]
     },
     "execution_count": 2,
     "metadata": {},
     "output_type": "execute_result"
    }
   ],
   "source": [
    "df = pd.read_csv('../Data/imdb_clean.csv').drop('Unnamed: 0', axis=1)\n",
    "df['ROI'] = df['gross'] - df['budget']\n",
    "df.head()"
   ]
  },
  {
   "cell_type": "code",
   "execution_count": 3,
   "metadata": {},
   "outputs": [
    {
     "data": {
      "text/plain": [
       "76430991.33"
      ]
     },
     "execution_count": 3,
     "metadata": {},
     "output_type": "execute_result"
    }
   ],
   "source": [
    "def get_genre_gross(df, genre):\n",
    "    return round(np.mean(df[df[genre] == 1]['gross']), 2)\n",
    "\n",
    "get_genre_gross(df.copy(), 'Action')"
   ]
  },
  {
   "cell_type": "code",
   "execution_count": 4,
   "metadata": {},
   "outputs": [
    {
     "data": {
      "application/vnd.holoviews_exec.v0+json": "",
      "text/html": [
       "<div id='1001'>\n",
       "\n",
       "\n",
       "\n",
       "\n",
       "\n",
       "  <div class=\"bk-root\" id=\"d0043627-501a-4b94-aec5-1973c10aece7\" data-root-id=\"1001\"></div>\n",
       "</div>\n",
       "<script type=\"application/javascript\">(function(root) {\n",
       "  function embed_document(root) {\n",
       "    var docs_json = {\"a403fe96-d857-4513-832c-c11703541c7a\":{\"roots\":{\"references\":[{\"attributes\":{},\"id\":\"1013\",\"type\":\"LinearScale\"},{\"attributes\":{\"data\":{\"Mean_Gross\":{\"__ndarray__\":\"AAAAAAD3vkD2KFy7WnByQfYoXInnfIBBw/Uo2u0tgUEAAADkG9aBQXE9CpOKLIJBZmZmTuuygkG4HoU5tdeCQT0K16OyGYRBrkfhIp4NhUHsUbhAaBOFQTMzM21/ooVBFK5HhzNlhkFSuB5VWS+HQUjhegLcd4hBw/UonFxYjEGF61E9+jiSQSlcj5UQypNBuB6F1lp4lEEAAAAauNqVQQAAAGjYfZdBw/Uo4hL2mUE=\",\"dtype\":\"float64\",\"order\":\"little\",\"shape\":[22]},\"index\":[\"Film-Noir\",\"Documentary\",\"Horror\",\"Biography\",\"Drama\",\"History\",\"Crime\",\"Music\",\"War\",\"Sport\",\"Romance\",\"Western\",\"Mystery\",\"Thriller\",\"Comedy\",\"Musical\",\"Action\",\"Sci-Fi\",\"Fantasy\",\"Family\",\"Adventure\",\"Animation\"]},\"selected\":{\"id\":\"1040\"},\"selection_policy\":{\"id\":\"1056\"}},\"id\":\"1039\",\"type\":\"ColumnDataSource\"},{\"attributes\":{\"bottom_units\":\"screen\",\"fill_alpha\":0.5,\"fill_color\":\"lightgrey\",\"left_units\":\"screen\",\"level\":\"overlay\",\"line_alpha\":1.0,\"line_color\":\"black\",\"line_dash\":[4,4],\"line_width\":2,\"right_units\":\"screen\",\"top_units\":\"screen\"},\"id\":\"1027\",\"type\":\"BoxAnnotation\"},{\"attributes\":{\"factors\":[\"Film-Noir\",\"Documentary\",\"Horror\",\"Biography\",\"Drama\",\"History\",\"Crime\",\"Music\",\"War\",\"Sport\",\"Romance\",\"Western\",\"Mystery\",\"Thriller\",\"Comedy\",\"Musical\",\"Action\",\"Sci-Fi\",\"Fantasy\",\"Family\",\"Adventure\",\"Animation\"],\"tags\":[[[\"index\",\"index\",null]]]},\"id\":\"1003\",\"type\":\"FactorRange\"},{\"attributes\":{},\"id\":\"1016\",\"type\":\"CategoricalTicker\"},{\"attributes\":{\"axis\":{\"id\":\"1015\"},\"grid_line_color\":null,\"ticker\":null},\"id\":\"1017\",\"type\":\"Grid\"},{\"attributes\":{\"axis_label\":\"\",\"bounds\":\"auto\",\"formatter\":{\"id\":\"1035\"},\"major_label_orientation\":1.5707963267948966,\"ticker\":{\"id\":\"1016\"}},\"id\":\"1015\",\"type\":\"CategoricalAxis\"},{\"attributes\":{\"margin\":[5,5,5,5],\"name\":\"HSpacer01542\",\"sizing_mode\":\"stretch_width\"},\"id\":\"1122\",\"type\":\"Spacer\"},{\"attributes\":{\"data_source\":{\"id\":\"1039\"},\"glyph\":{\"id\":\"1042\"},\"hover_glyph\":null,\"muted_glyph\":{\"id\":\"1044\"},\"nonselection_glyph\":{\"id\":\"1043\"},\"selection_glyph\":null,\"view\":{\"id\":\"1046\"}},\"id\":\"1045\",\"type\":\"GlyphRenderer\"},{\"attributes\":{},\"id\":\"1019\",\"type\":\"BasicTicker\"},{\"attributes\":{\"fill_color\":{\"value\":\"#1f77b3\"},\"top\":{\"field\":\"Mean_Gross\"},\"width\":{\"value\":0.8},\"x\":{\"field\":\"index\"}},\"id\":\"1042\",\"type\":\"VBar\"},{\"attributes\":{\"source\":{\"id\":\"1039\"}},\"id\":\"1046\",\"type\":\"CDSView\"},{\"attributes\":{\"below\":[{\"id\":\"1015\"}],\"center\":[{\"id\":\"1017\"},{\"id\":\"1021\"}],\"left\":[{\"id\":\"1018\"}],\"margin\":[5,5,5,5],\"min_border_bottom\":10,\"min_border_left\":10,\"min_border_right\":10,\"min_border_top\":10,\"plot_height\":300,\"plot_width\":700,\"renderers\":[{\"id\":\"1045\"},{\"id\":\"1049\"}],\"sizing_mode\":\"fixed\",\"title\":{\"id\":\"1007\"},\"toolbar\":{\"id\":\"1028\"},\"x_range\":{\"id\":\"1003\"},\"x_scale\":{\"id\":\"1011\"},\"y_range\":{\"id\":\"1004\"},\"y_scale\":{\"id\":\"1013\"}},\"id\":\"1006\",\"subtype\":\"Figure\",\"type\":\"Plot\"},{\"attributes\":{\"axis\":{\"id\":\"1018\"},\"dimension\":1,\"grid_line_color\":null,\"ticker\":null},\"id\":\"1021\",\"type\":\"Grid\"},{\"attributes\":{},\"id\":\"1038\",\"type\":\"BasicTickFormatter\"},{\"attributes\":{\"axis_label\":\"Mean Gross\",\"bounds\":\"auto\",\"formatter\":{\"id\":\"1038\"},\"major_label_orientation\":\"horizontal\",\"ticker\":{\"id\":\"1019\"}},\"id\":\"1018\",\"type\":\"LinearAxis\"},{\"attributes\":{\"text\":\"Mean Gross by Genre\",\"text_color\":{\"value\":\"black\"},\"text_font_size\":{\"value\":\"12pt\"}},\"id\":\"1007\",\"type\":\"Title\"},{\"attributes\":{\"fill_alpha\":{\"value\":0.1},\"fill_color\":{\"value\":\"#1f77b3\"},\"line_alpha\":{\"value\":0.1},\"top\":{\"field\":\"Mean_Gross\"},\"width\":{\"value\":0.8},\"x\":{\"field\":\"index\"}},\"id\":\"1043\",\"type\":\"VBar\"},{\"attributes\":{\"active_drag\":\"auto\",\"active_inspect\":\"auto\",\"active_multi\":null,\"active_scroll\":\"auto\",\"active_tap\":\"auto\",\"tools\":[{\"id\":\"1005\"},{\"id\":\"1022\"},{\"id\":\"1023\"},{\"id\":\"1024\"},{\"id\":\"1025\"},{\"id\":\"1026\"}]},\"id\":\"1028\",\"type\":\"Toolbar\"},{\"attributes\":{\"children\":[{\"id\":\"1002\"},{\"id\":\"1006\"},{\"id\":\"1122\"}],\"margin\":[0,0,0,0],\"name\":\"Row01537\",\"tags\":[\"embedded\"]},\"id\":\"1001\",\"type\":\"Row\"},{\"attributes\":{\"margin\":[5,5,5,5],\"name\":\"HSpacer01541\",\"sizing_mode\":\"stretch_width\"},\"id\":\"1002\",\"type\":\"Spacer\"},{\"attributes\":{\"level\":\"glyph\",\"line_color\":\"#30a2da\",\"line_width\":3,\"location\":53217957.10772728},\"id\":\"1049\",\"type\":\"Span\"},{\"attributes\":{\"callback\":null,\"renderers\":[{\"id\":\"1045\"}],\"tags\":[\"hv_created\"],\"tooltips\":[[\"index\",\"@{index}\"],[\"Mean Gross\",\"@{Mean_Gross}\"]]},\"id\":\"1005\",\"type\":\"HoverTool\"},{\"attributes\":{},\"id\":\"1040\",\"type\":\"Selection\"},{\"attributes\":{},\"id\":\"1022\",\"type\":\"SaveTool\"},{\"attributes\":{},\"id\":\"1023\",\"type\":\"PanTool\"},{\"attributes\":{},\"id\":\"1026\",\"type\":\"ResetTool\"},{\"attributes\":{},\"id\":\"1035\",\"type\":\"CategoricalTickFormatter\"},{\"attributes\":{\"end\":119777407.09400001,\"reset_end\":119777407.09400001,\"reset_start\":0.0,\"tags\":[[[\"Mean Gross\",\"Mean Gross\",null]]]},\"id\":\"1004\",\"type\":\"Range1d\"},{\"attributes\":{},\"id\":\"1024\",\"type\":\"WheelZoomTool\"},{\"attributes\":{\"fill_alpha\":{\"value\":0.2},\"fill_color\":{\"value\":\"#1f77b3\"},\"line_alpha\":{\"value\":0.2},\"top\":{\"field\":\"Mean_Gross\"},\"width\":{\"value\":0.8},\"x\":{\"field\":\"index\"}},\"id\":\"1044\",\"type\":\"VBar\"},{\"attributes\":{},\"id\":\"1056\",\"type\":\"UnionRenderers\"},{\"attributes\":{\"overlay\":{\"id\":\"1027\"}},\"id\":\"1025\",\"type\":\"BoxZoomTool\"},{\"attributes\":{},\"id\":\"1011\",\"type\":\"CategoricalScale\"}],\"root_ids\":[\"1001\"]},\"title\":\"Bokeh Application\",\"version\":\"2.2.3\"}};\n",
       "    var render_items = [{\"docid\":\"a403fe96-d857-4513-832c-c11703541c7a\",\"root_ids\":[\"1001\"],\"roots\":{\"1001\":\"d0043627-501a-4b94-aec5-1973c10aece7\"}}];\n",
       "    root.Bokeh.embed.embed_items_notebook(docs_json, render_items);\n",
       "  }\n",
       "  if (root.Bokeh !== undefined && root.Bokeh.Panel !== undefined) {\n",
       "    embed_document(root);\n",
       "  } else {\n",
       "    var attempts = 0;\n",
       "    var timer = setInterval(function(root) {\n",
       "      if (root.Bokeh !== undefined && root.Bokeh.Panel !== undefined) {\n",
       "        clearInterval(timer);\n",
       "        embed_document(root);\n",
       "      } else if (document.readyState == \"complete\") {\n",
       "        attempts++;\n",
       "        if (attempts > 100) {\n",
       "          clearInterval(timer);\n",
       "          console.log(\"Bokeh: ERROR: Unable to run BokehJS code because BokehJS library is missing\");\n",
       "        }\n",
       "      }\n",
       "    }, 10, root)\n",
       "  }\n",
       "})(window);</script>"
      ],
      "text/plain": [
       ":Overlay\n",
       "   .Bars.I  :Bars   [index]   (Mean Gross)\n",
       "   .HLine.I :HLine   [x,y]"
      ]
     },
     "execution_count": 4,
     "metadata": {
      "application/vnd.holoviews_exec.v0+json": {
       "id": "1001"
      }
     },
     "output_type": "execute_result"
    }
   ],
   "source": [
    "def get_all_genre_gross(df):\n",
    "    results = {}\n",
    "    genres = ['Action', 'Adventure', 'Fantasy', 'Sci-Fi', 'Thriller', 'Romance', \n",
    "          'Animation', 'Comedy', 'Family', 'Musical', 'Mystery', 'Western', \n",
    "          'Drama', 'History', 'Sport', 'Crime', 'Horror', 'War', 'Biography', \n",
    "          'Music', 'Documentary', 'Film-Noir']\n",
    "    \n",
    "    for genre in genres:\n",
    "        results[genre] = get_genre_gross(df.copy(), genre)\n",
    "        \n",
    "    return pd.DataFrame.from_dict(results, orient='index', columns=['Mean Gross']).sort_values(by='Mean Gross')\n",
    "\n",
    "def plot_all_genre_gross():\n",
    "    df_gross = get_all_genre_gross(df.copy())\n",
    "    return df_gross.hvplot(title='Mean Gross by Genre', rot=90, kind='bar') * hv.HLine(df_gross['Mean Gross'].mean())\n",
    "\n",
    "plot_all_genre_gross()"
   ]
  },
  {
   "cell_type": "code",
   "execution_count": 5,
   "metadata": {},
   "outputs": [
    {
     "data": {
      "text/plain": [
       "70676747.21"
      ]
     },
     "execution_count": 5,
     "metadata": {},
     "output_type": "execute_result"
    }
   ],
   "source": [
    "def get_genre_budget(df, genre):\n",
    "    return round(np.mean(df[df[genre] == 1]['budget']), 2)\n",
    "\n",
    "get_genre_budget(df.copy(), 'Action')"
   ]
  },
  {
   "cell_type": "code",
   "execution_count": 6,
   "metadata": {
    "scrolled": true
   },
   "outputs": [
    {
     "data": {
      "application/vnd.holoviews_exec.v0+json": "",
      "text/html": [
       "<div id='1164'>\n",
       "\n",
       "\n",
       "\n",
       "\n",
       "\n",
       "  <div class=\"bk-root\" id=\"88a9fd8b-6704-41e2-ba71-e81dcabb83de\" data-root-id=\"1164\"></div>\n",
       "</div>\n",
       "<script type=\"application/javascript\">(function(root) {\n",
       "  function embed_document(root) {\n",
       "    var docs_json = {\"c087b2eb-b94e-40ed-bdf7-5584b1fd9b99\":{\"roots\":{\"references\":[{\"attributes\":{\"source\":{\"id\":\"1202\"}},\"id\":\"1209\",\"type\":\"CDSView\"},{\"attributes\":{\"active_drag\":\"auto\",\"active_inspect\":\"auto\",\"active_multi\":null,\"active_scroll\":\"auto\",\"active_tap\":\"auto\",\"tools\":[{\"id\":\"1168\"},{\"id\":\"1185\"},{\"id\":\"1186\"},{\"id\":\"1187\"},{\"id\":\"1188\"},{\"id\":\"1189\"}]},\"id\":\"1191\",\"type\":\"Toolbar\"},{\"attributes\":{\"factors\":[\"Film-Noir\",\"Documentary\",\"Horror\",\"Music\",\"Biography\",\"Sport\",\"Romance\",\"Comedy\",\"Drama\",\"Mystery\",\"Crime\",\"Western\",\"Musical\",\"Thriller\",\"History\",\"War\",\"Fantasy\",\"Family\",\"Action\",\"Sci-Fi\",\"Adventure\",\"Animation\"],\"tags\":[[[\"index\",\"index\",null]]]},\"id\":\"1166\",\"type\":\"FactorRange\"},{\"attributes\":{},\"id\":\"1176\",\"type\":\"LinearScale\"},{\"attributes\":{\"children\":[{\"id\":\"1165\"},{\"id\":\"1169\"},{\"id\":\"1285\"}],\"margin\":[0,0,0,0],\"name\":\"Row01862\",\"tags\":[\"embedded\"]},\"id\":\"1164\",\"type\":\"Row\"},{\"attributes\":{\"fill_alpha\":{\"value\":0.1},\"fill_color\":{\"value\":\"#1f77b3\"},\"line_alpha\":{\"value\":0.1},\"top\":{\"field\":\"Mean_Budget\"},\"width\":{\"value\":0.8},\"x\":{\"field\":\"index\"}},\"id\":\"1206\",\"type\":\"VBar\"},{\"attributes\":{},\"id\":\"1203\",\"type\":\"Selection\"},{\"attributes\":{},\"id\":\"1185\",\"type\":\"SaveTool\"},{\"attributes\":{\"margin\":[5,5,5,5],\"name\":\"HSpacer01866\",\"sizing_mode\":\"stretch_width\"},\"id\":\"1165\",\"type\":\"Spacer\"},{\"attributes\":{\"text\":\"Mean Gross by Budget\",\"text_color\":{\"value\":\"black\"},\"text_font_size\":{\"value\":\"12pt\"}},\"id\":\"1170\",\"type\":\"Title\"},{\"attributes\":{},\"id\":\"1186\",\"type\":\"PanTool\"},{\"attributes\":{},\"id\":\"1189\",\"type\":\"ResetTool\"},{\"attributes\":{},\"id\":\"1187\",\"type\":\"WheelZoomTool\"},{\"attributes\":{\"overlay\":{\"id\":\"1190\"}},\"id\":\"1188\",\"type\":\"BoxZoomTool\"},{\"attributes\":{},\"id\":\"1198\",\"type\":\"CategoricalTickFormatter\"},{\"attributes\":{\"bottom_units\":\"screen\",\"fill_alpha\":0.5,\"fill_color\":\"lightgrey\",\"left_units\":\"screen\",\"level\":\"overlay\",\"line_alpha\":1.0,\"line_color\":\"black\",\"line_dash\":[4,4],\"line_width\":2,\"right_units\":\"screen\",\"top_units\":\"screen\"},\"id\":\"1190\",\"type\":\"BoxAnnotation\"},{\"attributes\":{\"end\":118847380.862,\"reset_end\":118847380.862,\"reset_start\":0.0,\"tags\":[[[\"Mean Budget\",\"Mean Budget\",null]]]},\"id\":\"1167\",\"type\":\"Range1d\"},{\"attributes\":{},\"id\":\"1179\",\"type\":\"CategoricalTicker\"},{\"attributes\":{\"margin\":[5,5,5,5],\"name\":\"HSpacer01867\",\"sizing_mode\":\"stretch_width\"},\"id\":\"1285\",\"type\":\"Spacer\"},{\"attributes\":{\"fill_alpha\":{\"value\":0.2},\"fill_color\":{\"value\":\"#1f77b3\"},\"line_alpha\":{\"value\":0.2},\"top\":{\"field\":\"Mean_Budget\"},\"width\":{\"value\":0.8},\"x\":{\"field\":\"index\"}},\"id\":\"1207\",\"type\":\"VBar\"},{\"attributes\":{\"axis\":{\"id\":\"1178\"},\"grid_line_color\":null,\"ticker\":null},\"id\":\"1180\",\"type\":\"Grid\"},{\"attributes\":{\"callback\":null,\"renderers\":[{\"id\":\"1208\"}],\"tags\":[\"hv_created\"],\"tooltips\":[[\"index\",\"@{index}\"],[\"Mean Budget\",\"@{Mean_Budget}\"]]},\"id\":\"1168\",\"type\":\"HoverTool\"},{\"attributes\":{\"axis_label\":\"\",\"bounds\":\"auto\",\"formatter\":{\"id\":\"1198\"},\"major_label_orientation\":1.5707963267948966,\"ticker\":{\"id\":\"1179\"}},\"id\":\"1178\",\"type\":\"CategoricalAxis\"},{\"attributes\":{},\"id\":\"1201\",\"type\":\"BasicTickFormatter\"},{\"attributes\":{\"below\":[{\"id\":\"1178\"}],\"center\":[{\"id\":\"1180\"},{\"id\":\"1184\"}],\"left\":[{\"id\":\"1181\"}],\"margin\":[5,5,5,5],\"min_border_bottom\":10,\"min_border_left\":10,\"min_border_right\":10,\"min_border_top\":10,\"plot_height\":300,\"plot_width\":700,\"renderers\":[{\"id\":\"1208\"},{\"id\":\"1212\"}],\"sizing_mode\":\"fixed\",\"title\":{\"id\":\"1170\"},\"toolbar\":{\"id\":\"1191\"},\"x_range\":{\"id\":\"1166\"},\"x_scale\":{\"id\":\"1174\"},\"y_range\":{\"id\":\"1167\"},\"y_scale\":{\"id\":\"1176\"}},\"id\":\"1169\",\"subtype\":\"Figure\",\"type\":\"Plot\"},{\"attributes\":{\"level\":\"glyph\",\"line_color\":\"#30a2da\",\"line_width\":3,\"location\":45948135.53090909},\"id\":\"1212\",\"type\":\"Span\"},{\"attributes\":{},\"id\":\"1182\",\"type\":\"BasicTicker\"},{\"attributes\":{\"data\":{\"Mean_Budget\":{\"__ndarray__\":\"AAAAADCMQUGuR+GaVy5VQc3MzNiImHRBcT0Ks4g5dkEpXI/q+f56QR+F63mcMH9BPQrXp+Dtf0F7FK5RR0aAQQAAAAgPR4BBhetR0MZjgUH2KFx7nj+CQZqZmR/daIRBpHA9zLCUhEGuR+GeWbKEQT0K183l8oZB9ihc6yLgj0EUrkfDqYSQQfYoXKz4mZBBPQrXLMTZkEFSuB4VIXKRQeF6FL84U5RBexSuETDPmUE=\",\"dtype\":\"float64\",\"order\":\"little\",\"shape\":[22]},\"index\":[\"Film-Noir\",\"Documentary\",\"Horror\",\"Music\",\"Biography\",\"Sport\",\"Romance\",\"Comedy\",\"Drama\",\"Mystery\",\"Crime\",\"Western\",\"Musical\",\"Thriller\",\"History\",\"War\",\"Fantasy\",\"Family\",\"Action\",\"Sci-Fi\",\"Adventure\",\"Animation\"]},\"selected\":{\"id\":\"1203\"},\"selection_policy\":{\"id\":\"1219\"}},\"id\":\"1202\",\"type\":\"ColumnDataSource\"},{\"attributes\":{\"axis\":{\"id\":\"1181\"},\"dimension\":1,\"grid_line_color\":null,\"ticker\":null},\"id\":\"1184\",\"type\":\"Grid\"},{\"attributes\":{\"axis_label\":\"Mean Budget\",\"bounds\":\"auto\",\"formatter\":{\"id\":\"1201\"},\"major_label_orientation\":\"horizontal\",\"ticker\":{\"id\":\"1182\"}},\"id\":\"1181\",\"type\":\"LinearAxis\"},{\"attributes\":{\"data_source\":{\"id\":\"1202\"},\"glyph\":{\"id\":\"1205\"},\"hover_glyph\":null,\"muted_glyph\":{\"id\":\"1207\"},\"nonselection_glyph\":{\"id\":\"1206\"},\"selection_glyph\":null,\"view\":{\"id\":\"1209\"}},\"id\":\"1208\",\"type\":\"GlyphRenderer\"},{\"attributes\":{\"fill_color\":{\"value\":\"#1f77b3\"},\"top\":{\"field\":\"Mean_Budget\"},\"width\":{\"value\":0.8},\"x\":{\"field\":\"index\"}},\"id\":\"1205\",\"type\":\"VBar\"},{\"attributes\":{},\"id\":\"1174\",\"type\":\"CategoricalScale\"},{\"attributes\":{},\"id\":\"1219\",\"type\":\"UnionRenderers\"}],\"root_ids\":[\"1164\"]},\"title\":\"Bokeh Application\",\"version\":\"2.2.3\"}};\n",
       "    var render_items = [{\"docid\":\"c087b2eb-b94e-40ed-bdf7-5584b1fd9b99\",\"root_ids\":[\"1164\"],\"roots\":{\"1164\":\"88a9fd8b-6704-41e2-ba71-e81dcabb83de\"}}];\n",
       "    root.Bokeh.embed.embed_items_notebook(docs_json, render_items);\n",
       "  }\n",
       "  if (root.Bokeh !== undefined && root.Bokeh.Panel !== undefined) {\n",
       "    embed_document(root);\n",
       "  } else {\n",
       "    var attempts = 0;\n",
       "    var timer = setInterval(function(root) {\n",
       "      if (root.Bokeh !== undefined && root.Bokeh.Panel !== undefined) {\n",
       "        clearInterval(timer);\n",
       "        embed_document(root);\n",
       "      } else if (document.readyState == \"complete\") {\n",
       "        attempts++;\n",
       "        if (attempts > 100) {\n",
       "          clearInterval(timer);\n",
       "          console.log(\"Bokeh: ERROR: Unable to run BokehJS code because BokehJS library is missing\");\n",
       "        }\n",
       "      }\n",
       "    }, 10, root)\n",
       "  }\n",
       "})(window);</script>"
      ],
      "text/plain": [
       ":Overlay\n",
       "   .Bars.I  :Bars   [index]   (Mean Budget)\n",
       "   .HLine.I :HLine   [x,y]"
      ]
     },
     "execution_count": 6,
     "metadata": {
      "application/vnd.holoviews_exec.v0+json": {
       "id": "1164"
      }
     },
     "output_type": "execute_result"
    }
   ],
   "source": [
    "def get_all_genre_budget(df):\n",
    "    results = {}\n",
    "    genres = ['Action', 'Adventure', 'Fantasy', 'Sci-Fi', 'Thriller', 'Romance', \n",
    "          'Animation', 'Comedy', 'Family', 'Musical', 'Mystery', 'Western', \n",
    "          'Drama', 'History', 'Sport', 'Crime', 'Horror', 'War', 'Biography', \n",
    "          'Music', 'Documentary', 'Film-Noir']\n",
    "    \n",
    "    for genre in genres:\n",
    "        results[genre] = get_genre_budget(df.copy(), genre)\n",
    "        \n",
    "    return pd.DataFrame.from_dict(results, orient='index', columns=['Mean Budget']).sort_values(by='Mean Budget')\n",
    "\n",
    "def plot_all_genre_budget():\n",
    "    df_budget = get_all_genre_budget(df.copy())\n",
    "    return df_budget.hvplot(title='Mean Gross by Budget', rot=90, kind='bar') * hv.HLine(df_budget['Mean Budget'].mean())\n",
    "\n",
    "plot_all_genre_budget()"
   ]
  },
  {
   "cell_type": "code",
   "execution_count": 7,
   "metadata": {},
   "outputs": [
    {
     "data": {
      "text/plain": [
       "5754244.12"
      ]
     },
     "execution_count": 7,
     "metadata": {},
     "output_type": "execute_result"
    }
   ],
   "source": [
    "def get_genre_roi(df, genre):\n",
    "    return round(np.mean(df[df[genre] == 1]['ROI']), 2)\n",
    "\n",
    "get_genre_roi(df.copy(), 'Action')"
   ]
  },
  {
   "cell_type": "code",
   "execution_count": 8,
   "metadata": {},
   "outputs": [
    {
     "data": {
      "application/vnd.holoviews_exec.v0+json": "",
      "text/html": [
       "<div id='1327'>\n",
       "\n",
       "\n",
       "\n",
       "\n",
       "\n",
       "  <div class=\"bk-root\" id=\"e0e0d6d4-0aa1-49c7-a47f-50f25ddffd4d\" data-root-id=\"1327\"></div>\n",
       "</div>\n",
       "<script type=\"application/javascript\">(function(root) {\n",
       "  function embed_document(root) {\n",
       "    var docs_json = {\"e292de2f-1471-4bfd-90eb-43c97eb35a7e\":{\"roots\":{\"references\":[{\"attributes\":{\"axis\":{\"id\":\"1344\"},\"dimension\":1,\"grid_line_color\":null,\"ticker\":null},\"id\":\"1347\",\"type\":\"Grid\"},{\"attributes\":{\"active_drag\":\"auto\",\"active_inspect\":\"auto\",\"active_multi\":null,\"active_scroll\":\"auto\",\"active_tap\":\"auto\",\"tools\":[{\"id\":\"1331\"},{\"id\":\"1348\"},{\"id\":\"1349\"},{\"id\":\"1350\"},{\"id\":\"1351\"},{\"id\":\"1352\"}]},\"id\":\"1354\",\"type\":\"Toolbar\"},{\"attributes\":{\"axis_label\":\"Mean ROI\",\"bounds\":\"auto\",\"formatter\":{\"id\":\"1364\"},\"major_label_orientation\":\"horizontal\",\"ticker\":{\"id\":\"1345\"}},\"id\":\"1344\",\"type\":\"LinearAxis\"},{\"attributes\":{\"level\":\"glyph\",\"line_color\":\"#30a2da\",\"line_width\":3,\"location\":7269821.576363637},\"id\":\"1375\",\"type\":\"Span\"},{\"attributes\":{\"children\":[{\"id\":\"1328\"},{\"id\":\"1332\"},{\"id\":\"1448\"}],\"margin\":[0,0,0,0],\"name\":\"Row02187\",\"tags\":[\"embedded\"]},\"id\":\"1327\",\"type\":\"Row\"},{\"attributes\":{\"callback\":null,\"renderers\":[{\"id\":\"1371\"}],\"tags\":[\"hv_created\"],\"tooltips\":[[\"index\",\"@{index}\"],[\"Mean ROI\",\"@{Mean_ROI}\"]]},\"id\":\"1331\",\"type\":\"HoverTool\"},{\"attributes\":{},\"id\":\"1361\",\"type\":\"CategoricalTickFormatter\"},{\"attributes\":{\"bottom_units\":\"screen\",\"fill_alpha\":0.5,\"fill_color\":\"lightgrey\",\"left_units\":\"screen\",\"level\":\"overlay\",\"line_alpha\":1.0,\"line_color\":\"black\",\"line_dash\":[4,4],\"line_width\":2,\"right_units\":\"screen\",\"top_units\":\"screen\"},\"id\":\"1353\",\"type\":\"BoxAnnotation\"},{\"attributes\":{\"margin\":[5,5,5,5],\"name\":\"HSpacer02191\",\"sizing_mode\":\"stretch_width\"},\"id\":\"1328\",\"type\":\"Spacer\"},{\"attributes\":{},\"id\":\"1382\",\"type\":\"UnionRenderers\"},{\"attributes\":{},\"id\":\"1339\",\"type\":\"LinearScale\"},{\"attributes\":{\"margin\":[5,5,5,5],\"name\":\"HSpacer02192\",\"sizing_mode\":\"stretch_width\"},\"id\":\"1448\",\"type\":\"Spacer\"},{\"attributes\":{\"source\":{\"id\":\"1365\"}},\"id\":\"1372\",\"type\":\"CDSView\"},{\"attributes\":{},\"id\":\"1348\",\"type\":\"SaveTool\"},{\"attributes\":{\"fill_alpha\":{\"value\":0.1},\"fill_color\":{\"value\":\"#1f77b3\"},\"line_alpha\":{\"value\":0.1},\"top\":{\"field\":\"Mean_ROI\"},\"width\":{\"value\":0.8},\"x\":{\"field\":\"index\"}},\"id\":\"1369\",\"type\":\"VBar\"},{\"attributes\":{\"text\":\"Mean ROI by Genre\",\"text_color\":{\"value\":\"black\"},\"text_font_size\":{\"value\":\"12pt\"}},\"id\":\"1333\",\"type\":\"Title\"},{\"attributes\":{},\"id\":\"1349\",\"type\":\"PanTool\"},{\"attributes\":{},\"id\":\"1352\",\"type\":\"ResetTool\"},{\"attributes\":{},\"id\":\"1350\",\"type\":\"WheelZoomTool\"},{\"attributes\":{\"overlay\":{\"id\":\"1353\"}},\"id\":\"1351\",\"type\":\"BoxZoomTool\"},{\"attributes\":{\"end\":26705010.256,\"reset_end\":26705010.256,\"reset_start\":-29366943.776,\"start\":-29366943.776,\"tags\":[[[\"Mean ROI\",\"Mean ROI\",null]]]},\"id\":\"1330\",\"type\":\"Range1d\"},{\"attributes\":{\"factors\":[\"War\",\"History\",\"Film-Noir\",\"Animation\",\"Crime\",\"Western\",\"Drama\",\"Thriller\",\"Action\",\"Biography\",\"Sci-Fi\",\"Mystery\",\"Romance\",\"Sport\",\"Horror\",\"Adventure\",\"Documentary\",\"Music\",\"Musical\",\"Fantasy\",\"Comedy\",\"Family\"],\"tags\":[[[\"index\",\"index\",null]]]},\"id\":\"1329\",\"type\":\"FactorRange\"},{\"attributes\":{\"fill_alpha\":{\"value\":0.2},\"fill_color\":{\"value\":\"#1f77b3\"},\"line_alpha\":{\"value\":0.2},\"top\":{\"field\":\"Mean_ROI\"},\"width\":{\"value\":0.8},\"x\":{\"field\":\"index\"}},\"id\":\"1370\",\"type\":\"VBar\"},{\"attributes\":{},\"id\":\"1342\",\"type\":\"CategoricalTicker\"},{\"attributes\":{\"below\":[{\"id\":\"1341\"}],\"center\":[{\"id\":\"1343\"},{\"id\":\"1347\"}],\"left\":[{\"id\":\"1344\"}],\"margin\":[5,5,5,5],\"min_border_bottom\":10,\"min_border_left\":10,\"min_border_right\":10,\"min_border_top\":10,\"plot_height\":300,\"plot_width\":700,\"renderers\":[{\"id\":\"1371\"},{\"id\":\"1375\"}],\"sizing_mode\":\"fixed\",\"title\":{\"id\":\"1333\"},\"toolbar\":{\"id\":\"1354\"},\"x_range\":{\"id\":\"1329\"},\"x_scale\":{\"id\":\"1337\"},\"y_range\":{\"id\":\"1330\"},\"y_scale\":{\"id\":\"1339\"}},\"id\":\"1332\",\"subtype\":\"Figure\",\"type\":\"Plot\"},{\"attributes\":{\"axis\":{\"id\":\"1341\"},\"grid_line_color\":null,\"ticker\":null},\"id\":\"1343\",\"type\":\"Grid\"},{\"attributes\":{},\"id\":\"1337\",\"type\":\"CategoricalScale\"},{\"attributes\":{},\"id\":\"1364\",\"type\":\"BasicTickFormatter\"},{\"attributes\":{\"axis_label\":\"\",\"bounds\":\"auto\",\"formatter\":{\"id\":\"1361\"},\"major_label_orientation\":1.5707963267948966,\"ticker\":{\"id\":\"1342\"}},\"id\":\"1341\",\"type\":\"CategoricalAxis\"},{\"attributes\":{\"fill_color\":{\"value\":\"#1f77b3\"},\"top\":{\"field\":\"Mean_ROI\"},\"width\":{\"value\":0.8},\"x\":{\"field\":\"index\"}},\"id\":\"1368\",\"type\":\"VBar\"},{\"attributes\":{\"data\":{\"Mean_ROI\":{\"__ndarray__\":\"cT0Kj+CMd8EzMzPrbBljwQAAAIC0fEHB16NwPWhxI0EpXI/CNNMsQZqZmdkkmkNBAAAAwM3wSEEfheux/edTQXsUrgdh81VBcT0KJ4dzXUG4HoUDfL9iQcP1KNyyBWRBrkfhst9xZEF7FK6XP9VlQbgehXOMwmhB9ihcR/1UaUEUrkepiUlqQXsUrn/D625BexSuP68Ob0EfheuZiJ1vQZqZmWEpY3BB7FG4tv0CdUE=\",\"dtype\":\"float64\",\"order\":\"little\",\"shape\":[22]},\"index\":[\"War\",\"History\",\"Film-Noir\",\"Animation\",\"Crime\",\"Western\",\"Drama\",\"Thriller\",\"Action\",\"Biography\",\"Sci-Fi\",\"Mystery\",\"Romance\",\"Sport\",\"Horror\",\"Adventure\",\"Documentary\",\"Music\",\"Musical\",\"Fantasy\",\"Comedy\",\"Family\"]},\"selected\":{\"id\":\"1366\"},\"selection_policy\":{\"id\":\"1382\"}},\"id\":\"1365\",\"type\":\"ColumnDataSource\"},{\"attributes\":{},\"id\":\"1366\",\"type\":\"Selection\"},{\"attributes\":{},\"id\":\"1345\",\"type\":\"BasicTicker\"},{\"attributes\":{\"data_source\":{\"id\":\"1365\"},\"glyph\":{\"id\":\"1368\"},\"hover_glyph\":null,\"muted_glyph\":{\"id\":\"1370\"},\"nonselection_glyph\":{\"id\":\"1369\"},\"selection_glyph\":null,\"view\":{\"id\":\"1372\"}},\"id\":\"1371\",\"type\":\"GlyphRenderer\"}],\"root_ids\":[\"1327\"]},\"title\":\"Bokeh Application\",\"version\":\"2.2.3\"}};\n",
       "    var render_items = [{\"docid\":\"e292de2f-1471-4bfd-90eb-43c97eb35a7e\",\"root_ids\":[\"1327\"],\"roots\":{\"1327\":\"e0e0d6d4-0aa1-49c7-a47f-50f25ddffd4d\"}}];\n",
       "    root.Bokeh.embed.embed_items_notebook(docs_json, render_items);\n",
       "  }\n",
       "  if (root.Bokeh !== undefined && root.Bokeh.Panel !== undefined) {\n",
       "    embed_document(root);\n",
       "  } else {\n",
       "    var attempts = 0;\n",
       "    var timer = setInterval(function(root) {\n",
       "      if (root.Bokeh !== undefined && root.Bokeh.Panel !== undefined) {\n",
       "        clearInterval(timer);\n",
       "        embed_document(root);\n",
       "      } else if (document.readyState == \"complete\") {\n",
       "        attempts++;\n",
       "        if (attempts > 100) {\n",
       "          clearInterval(timer);\n",
       "          console.log(\"Bokeh: ERROR: Unable to run BokehJS code because BokehJS library is missing\");\n",
       "        }\n",
       "      }\n",
       "    }, 10, root)\n",
       "  }\n",
       "})(window);</script>"
      ],
      "text/plain": [
       ":Overlay\n",
       "   .Bars.I  :Bars   [index]   (Mean ROI)\n",
       "   .HLine.I :HLine   [x,y]"
      ]
     },
     "execution_count": 8,
     "metadata": {
      "application/vnd.holoviews_exec.v0+json": {
       "id": "1327"
      }
     },
     "output_type": "execute_result"
    }
   ],
   "source": [
    "def get_all_genre_roi(df):\n",
    "    results = {}\n",
    "    genres = ['Action', 'Adventure', 'Fantasy', 'Sci-Fi', 'Thriller', 'Romance', \n",
    "          'Animation', 'Comedy', 'Family', 'Musical', 'Mystery', 'Western', \n",
    "          'Drama', 'History', 'Sport', 'Crime', 'Horror', 'War', 'Biography', \n",
    "          'Music', 'Documentary', 'Film-Noir']\n",
    "    \n",
    "    for genre in genres:\n",
    "        results[genre] = get_genre_roi(df.copy(), genre)\n",
    "        \n",
    "    return pd.DataFrame.from_dict(results, orient='index', columns=['Mean ROI']).sort_values(by='Mean ROI')\n",
    "\n",
    "def plot_all_genre_roi():\n",
    "    df_roi = get_all_genre_roi(df.copy())\n",
    "    return df_roi.hvplot(title='Mean ROI by Genre', rot=90, kind='bar') * hv.HLine(df_roi['Mean ROI'].mean())\n",
    "\n",
    "plot_all_genre_roi()"
   ]
  },
  {
   "cell_type": "code",
   "execution_count": 9,
   "metadata": {},
   "outputs": [
    {
     "data": {
      "text/plain": [
       "6.29"
      ]
     },
     "execution_count": 9,
     "metadata": {},
     "output_type": "execute_result"
    }
   ],
   "source": [
    "def get_genre_imdb_score(df, genre):\n",
    "    return round(np.mean(df[df[genre] == 1]['imdb_score']), 2)\n",
    "\n",
    "get_genre_imdb_score(df.copy(), 'Action')"
   ]
  },
  {
   "cell_type": "code",
   "execution_count": 10,
   "metadata": {
    "scrolled": true
   },
   "outputs": [
    {
     "data": {
      "application/vnd.holoviews_exec.v0+json": "",
      "text/html": [
       "<div id='1490'>\n",
       "\n",
       "\n",
       "\n",
       "\n",
       "\n",
       "  <div class=\"bk-root\" id=\"04ee9da5-07ac-4edd-b472-03a6343f7856\" data-root-id=\"1490\"></div>\n",
       "</div>\n",
       "<script type=\"application/javascript\">(function(root) {\n",
       "  function embed_document(root) {\n",
       "    var docs_json = {\"4612a10e-7b1c-4e29-97d0-b3ad325e31cd\":{\"roots\":{\"references\":[{\"attributes\":{},\"id\":\"1508\",\"type\":\"BasicTicker\"},{\"attributes\":{\"axis\":{\"id\":\"1507\"},\"dimension\":1,\"grid_line_color\":null,\"ticker\":null},\"id\":\"1510\",\"type\":\"Grid\"},{\"attributes\":{},\"id\":\"1527\",\"type\":\"BasicTickFormatter\"},{\"attributes\":{\"active_drag\":\"auto\",\"active_inspect\":\"auto\",\"active_multi\":null,\"active_scroll\":\"auto\",\"active_tap\":\"auto\",\"tools\":[{\"id\":\"1494\"},{\"id\":\"1511\"},{\"id\":\"1512\"},{\"id\":\"1513\"},{\"id\":\"1514\"},{\"id\":\"1515\"}]},\"id\":\"1517\",\"type\":\"Toolbar\"},{\"attributes\":{\"axis_label\":\"Mean IMDB Score\",\"bounds\":\"auto\",\"formatter\":{\"id\":\"1527\"},\"major_label_orientation\":\"horizontal\",\"ticker\":{\"id\":\"1508\"}},\"id\":\"1507\",\"type\":\"LinearAxis\"},{\"attributes\":{\"fill_alpha\":{\"value\":0.2},\"fill_color\":{\"value\":\"#1f77b3\"},\"line_alpha\":{\"value\":0.2},\"top\":{\"field\":\"Mean_IMDB_Score\"},\"width\":{\"value\":0.8},\"x\":{\"field\":\"index\"}},\"id\":\"1533\",\"type\":\"VBar\"},{\"attributes\":{},\"id\":\"1545\",\"type\":\"UnionRenderers\"},{\"attributes\":{},\"id\":\"1529\",\"type\":\"Selection\"},{\"attributes\":{\"end\":7.88,\"reset_end\":7.88,\"reset_start\":0.0,\"tags\":[[[\"Mean IMDB Score\",\"Mean IMDB Score\",null]]]},\"id\":\"1493\",\"type\":\"Range1d\"},{\"attributes\":{\"bottom_units\":\"screen\",\"fill_alpha\":0.5,\"fill_color\":\"lightgrey\",\"left_units\":\"screen\",\"level\":\"overlay\",\"line_alpha\":1.0,\"line_color\":\"black\",\"line_dash\":[4,4],\"line_width\":2,\"right_units\":\"screen\",\"top_units\":\"screen\"},\"id\":\"1516\",\"type\":\"BoxAnnotation\"},{\"attributes\":{\"fill_alpha\":{\"value\":0.1},\"fill_color\":{\"value\":\"#1f77b3\"},\"line_alpha\":{\"value\":0.1},\"top\":{\"field\":\"Mean_IMDB_Score\"},\"width\":{\"value\":0.8},\"x\":{\"field\":\"index\"}},\"id\":\"1532\",\"type\":\"VBar\"},{\"attributes\":{},\"id\":\"1500\",\"type\":\"CategoricalScale\"},{\"attributes\":{\"axis\":{\"id\":\"1504\"},\"grid_line_color\":null,\"ticker\":null},\"id\":\"1506\",\"type\":\"Grid\"},{\"attributes\":{\"source\":{\"id\":\"1528\"}},\"id\":\"1535\",\"type\":\"CDSView\"},{\"attributes\":{\"text\":\"Mean IMDB by Genre\",\"text_color\":{\"value\":\"black\"},\"text_font_size\":{\"value\":\"12pt\"}},\"id\":\"1496\",\"type\":\"Title\"},{\"attributes\":{\"level\":\"glyph\",\"line_color\":\"#30a2da\",\"line_width\":3,\"location\":6.607727272727272},\"id\":\"1538\",\"type\":\"Span\"},{\"attributes\":{},\"id\":\"1511\",\"type\":\"SaveTool\"},{\"attributes\":{\"children\":[{\"id\":\"1491\"},{\"id\":\"1495\"},{\"id\":\"1611\"}],\"margin\":[0,0,0,0],\"name\":\"Row02512\",\"tags\":[\"embedded\"]},\"id\":\"1490\",\"type\":\"Row\"},{\"attributes\":{},\"id\":\"1512\",\"type\":\"PanTool\"},{\"attributes\":{\"fill_color\":{\"value\":\"#1f77b3\"},\"top\":{\"field\":\"Mean_IMDB_Score\"},\"width\":{\"value\":0.8},\"x\":{\"field\":\"index\"}},\"id\":\"1531\",\"type\":\"VBar\"},{\"attributes\":{},\"id\":\"1515\",\"type\":\"ResetTool\"},{\"attributes\":{\"data_source\":{\"id\":\"1528\"},\"glyph\":{\"id\":\"1531\"},\"hover_glyph\":null,\"muted_glyph\":{\"id\":\"1533\"},\"nonselection_glyph\":{\"id\":\"1532\"},\"selection_glyph\":null,\"view\":{\"id\":\"1535\"}},\"id\":\"1534\",\"type\":\"GlyphRenderer\"},{\"attributes\":{},\"id\":\"1513\",\"type\":\"WheelZoomTool\"},{\"attributes\":{\"margin\":[5,5,5,5],\"name\":\"HSpacer02516\",\"sizing_mode\":\"stretch_width\"},\"id\":\"1491\",\"type\":\"Spacer\"},{\"attributes\":{},\"id\":\"1502\",\"type\":\"LinearScale\"},{\"attributes\":{\"overlay\":{\"id\":\"1516\"}},\"id\":\"1514\",\"type\":\"BoxZoomTool\"},{\"attributes\":{\"margin\":[5,5,5,5],\"name\":\"HSpacer02517\",\"sizing_mode\":\"stretch_width\"},\"id\":\"1611\",\"type\":\"Spacer\"},{\"attributes\":{},\"id\":\"1524\",\"type\":\"CategoricalTickFormatter\"},{\"attributes\":{\"factors\":[\"Horror\",\"Comedy\",\"Family\",\"Fantasy\",\"Action\",\"Sci-Fi\",\"Music\",\"Thriller\",\"Romance\",\"Adventure\",\"Mystery\",\"Crime\",\"Sport\",\"Musical\",\"Animation\",\"Drama\",\"Western\",\"Documentary\",\"War\",\"History\",\"Biography\",\"Film-Noir\"],\"tags\":[[[\"index\",\"index\",null]]]},\"id\":\"1492\",\"type\":\"FactorRange\"},{\"attributes\":{\"below\":[{\"id\":\"1504\"}],\"center\":[{\"id\":\"1506\"},{\"id\":\"1510\"}],\"left\":[{\"id\":\"1507\"}],\"margin\":[5,5,5,5],\"min_border_bottom\":10,\"min_border_left\":10,\"min_border_right\":10,\"min_border_top\":10,\"plot_height\":300,\"plot_width\":700,\"renderers\":[{\"id\":\"1534\"},{\"id\":\"1538\"}],\"sizing_mode\":\"fixed\",\"title\":{\"id\":\"1496\"},\"toolbar\":{\"id\":\"1517\"},\"x_range\":{\"id\":\"1492\"},\"x_scale\":{\"id\":\"1500\"},\"y_range\":{\"id\":\"1493\"},\"y_scale\":{\"id\":\"1502\"}},\"id\":\"1495\",\"subtype\":\"Figure\",\"type\":\"Plot\"},{\"attributes\":{},\"id\":\"1505\",\"type\":\"CategoricalTicker\"},{\"attributes\":{\"data\":{\"Mean_IMDB_Score\":{\"__ndarray__\":\"mpmZmZmZF0DD9Shcj8IYQNejcD0K1xhAH4XrUbgeGUApXI/C9SgZQFK4HoXrURlAXI/C9ShcGUB7FK5H4XoZQLgehetRuBlAzczMzMzMGUDsUbgehesZQDMzMzMzMxpAXI/C9ShcGkBcj8L1KFwaQM3MzMzMzBpAMzMzMzMzG0A9CtejcD0bQPYoXI/C9RtAPQrXo3A9HECamZmZmZkcQKRwPQrXoxxAzczMzMzMHkA=\",\"dtype\":\"float64\",\"order\":\"little\",\"shape\":[22]},\"index\":[\"Horror\",\"Comedy\",\"Family\",\"Fantasy\",\"Action\",\"Sci-Fi\",\"Music\",\"Thriller\",\"Romance\",\"Adventure\",\"Mystery\",\"Crime\",\"Sport\",\"Musical\",\"Animation\",\"Drama\",\"Western\",\"Documentary\",\"War\",\"History\",\"Biography\",\"Film-Noir\"]},\"selected\":{\"id\":\"1529\"},\"selection_policy\":{\"id\":\"1545\"}},\"id\":\"1528\",\"type\":\"ColumnDataSource\"},{\"attributes\":{\"axis_label\":\"\",\"bounds\":\"auto\",\"formatter\":{\"id\":\"1524\"},\"major_label_orientation\":1.5707963267948966,\"ticker\":{\"id\":\"1505\"}},\"id\":\"1504\",\"type\":\"CategoricalAxis\"},{\"attributes\":{\"callback\":null,\"renderers\":[{\"id\":\"1534\"}],\"tags\":[\"hv_created\"],\"tooltips\":[[\"index\",\"@{index}\"],[\"Mean IMDB Score\",\"@{Mean_IMDB_Score}\"]]},\"id\":\"1494\",\"type\":\"HoverTool\"}],\"root_ids\":[\"1490\"]},\"title\":\"Bokeh Application\",\"version\":\"2.2.3\"}};\n",
       "    var render_items = [{\"docid\":\"4612a10e-7b1c-4e29-97d0-b3ad325e31cd\",\"root_ids\":[\"1490\"],\"roots\":{\"1490\":\"04ee9da5-07ac-4edd-b472-03a6343f7856\"}}];\n",
       "    root.Bokeh.embed.embed_items_notebook(docs_json, render_items);\n",
       "  }\n",
       "  if (root.Bokeh !== undefined && root.Bokeh.Panel !== undefined) {\n",
       "    embed_document(root);\n",
       "  } else {\n",
       "    var attempts = 0;\n",
       "    var timer = setInterval(function(root) {\n",
       "      if (root.Bokeh !== undefined && root.Bokeh.Panel !== undefined) {\n",
       "        clearInterval(timer);\n",
       "        embed_document(root);\n",
       "      } else if (document.readyState == \"complete\") {\n",
       "        attempts++;\n",
       "        if (attempts > 100) {\n",
       "          clearInterval(timer);\n",
       "          console.log(\"Bokeh: ERROR: Unable to run BokehJS code because BokehJS library is missing\");\n",
       "        }\n",
       "      }\n",
       "    }, 10, root)\n",
       "  }\n",
       "})(window);</script>"
      ],
      "text/plain": [
       ":Overlay\n",
       "   .Bars.I  :Bars   [index]   (Mean IMDB Score)\n",
       "   .HLine.I :HLine   [x,y]"
      ]
     },
     "execution_count": 10,
     "metadata": {
      "application/vnd.holoviews_exec.v0+json": {
       "id": "1490"
      }
     },
     "output_type": "execute_result"
    }
   ],
   "source": [
    "def get_all_genre_imdb_score(df):\n",
    "    results = {}\n",
    "    genres = ['Action', 'Adventure', 'Fantasy', 'Sci-Fi', 'Thriller', 'Romance', \n",
    "          'Animation', 'Comedy', 'Family', 'Musical', 'Mystery', 'Western', \n",
    "          'Drama', 'History', 'Sport', 'Crime', 'Horror', 'War', 'Biography', \n",
    "          'Music', 'Documentary', 'Film-Noir']\n",
    "    \n",
    "    for genre in genres:\n",
    "        results[genre] = get_genre_imdb_score(df.copy(), genre)\n",
    "        \n",
    "    return pd.DataFrame.from_dict(results, orient='index', columns=['Mean IMDB Score']).sort_values(by='Mean IMDB Score')\n",
    "\n",
    "def plot_all_genre_imdb_score():\n",
    "    df_imdb_score = get_all_genre_imdb_score(df.copy())\n",
    "    return df_imdb_score.hvplot(title='Mean IMDB by Genre', rot=90, kind='bar') * hv.HLine(df_imdb_score['Mean IMDB Score'].mean())\n",
    "\n",
    "plot_all_genre_imdb_score()"
   ]
  },
  {
   "cell_type": "code",
   "execution_count": 11,
   "metadata": {},
   "outputs": [
    {
     "data": {
      "application/vnd.holoviews_exec.v0+json": "",
      "text/html": [
       "<div id='1653'>\n",
       "\n",
       "\n",
       "\n",
       "\n",
       "\n",
       "  <div class=\"bk-root\" id=\"2769ef69-45e9-4ede-8e9d-aa7e846ca3bc\" data-root-id=\"1653\"></div>\n",
       "</div>\n",
       "<script type=\"application/javascript\">(function(root) {\n",
       "  function embed_document(root) {\n",
       "    var docs_json = {\"3fa8bd50-368b-4f80-a2dc-77c08768c270\":{\"roots\":{\"references\":[{\"attributes\":{},\"id\":\"1674\",\"type\":\"SaveTool\"},{\"attributes\":{\"text\":\"Top Ten ROI Movies in Action Genre\",\"text_color\":{\"value\":\"black\"},\"text_font_size\":{\"value\":\"12pt\"}},\"id\":\"1659\",\"type\":\"Title\"},{\"attributes\":{},\"id\":\"1675\",\"type\":\"PanTool\"},{\"attributes\":{},\"id\":\"1678\",\"type\":\"ResetTool\"},{\"attributes\":{},\"id\":\"1705\",\"type\":\"UnionRenderers\"},{\"attributes\":{},\"id\":\"1676\",\"type\":\"WheelZoomTool\"},{\"attributes\":{\"source\":{\"id\":\"1687\"}},\"id\":\"1694\",\"type\":\"CDSView\"},{\"attributes\":{\"overlay\":{\"id\":\"1679\"}},\"id\":\"1677\",\"type\":\"BoxZoomTool\"},{\"attributes\":{\"below\":[{\"id\":\"1667\"}],\"center\":[{\"id\":\"1669\"},{\"id\":\"1673\"}],\"left\":[{\"id\":\"1670\"}],\"margin\":[5,5,5,5],\"min_border_bottom\":10,\"min_border_left\":10,\"min_border_right\":10,\"min_border_top\":10,\"plot_height\":300,\"plot_width\":700,\"renderers\":[{\"id\":\"1693\"}],\"sizing_mode\":\"fixed\",\"title\":{\"id\":\"1659\"},\"toolbar\":{\"id\":\"1680\"},\"x_range\":{\"id\":\"1655\"},\"x_scale\":{\"id\":\"1663\"},\"y_range\":{\"id\":\"1656\"},\"y_scale\":{\"id\":\"1665\"}},\"id\":\"1658\",\"subtype\":\"Figure\",\"type\":\"Plot\"},{\"attributes\":{\"fill_alpha\":{\"value\":0.2},\"fill_color\":{\"value\":\"#1f77b3\"},\"line_alpha\":{\"value\":0.2},\"top\":{\"field\":\"ROI\"},\"width\":{\"value\":0.8},\"x\":{\"field\":\"movie_title\"}},\"id\":\"1692\",\"type\":\"VBar\"},{\"attributes\":{},\"id\":\"1668\",\"type\":\"CategoricalTicker\"},{\"attributes\":{},\"id\":\"1663\",\"type\":\"CategoricalScale\"},{\"attributes\":{},\"id\":\"1665\",\"type\":\"LinearScale\"},{\"attributes\":{},\"id\":\"1671\",\"type\":\"BasicTicker\"},{\"attributes\":{},\"id\":\"1688\",\"type\":\"Selection\"},{\"attributes\":{\"axis\":{\"id\":\"1667\"},\"grid_line_color\":null,\"ticker\":null},\"id\":\"1669\",\"type\":\"Grid\"},{\"attributes\":{\"children\":[{\"id\":\"1654\"},{\"id\":\"1658\"},{\"id\":\"1715\"}],\"margin\":[0,0,0,0],\"name\":\"Row02834\",\"tags\":[\"embedded\"]},\"id\":\"1653\",\"type\":\"Row\"},{\"attributes\":{\"axis_label\":\"movie_title\",\"bounds\":\"auto\",\"formatter\":{\"id\":\"1695\"},\"major_label_orientation\":0.4363323129985824,\"ticker\":{\"id\":\"1668\"}},\"id\":\"1667\",\"type\":\"CategoricalAxis\"},{\"attributes\":{\"callback\":null,\"renderers\":[{\"id\":\"1693\"}],\"tags\":[\"hv_created\"],\"tooltips\":[[\"movie_title\",\"@{movie_title}\"],[\"ROI\",\"@{ROI}\"]]},\"id\":\"1657\",\"type\":\"HoverTool\"},{\"attributes\":{\"active_drag\":\"auto\",\"active_inspect\":\"auto\",\"active_multi\":null,\"active_scroll\":\"auto\",\"active_tap\":\"auto\",\"tools\":[{\"id\":\"1657\"},{\"id\":\"1674\"},{\"id\":\"1675\"},{\"id\":\"1676\"},{\"id\":\"1677\"},{\"id\":\"1678\"}]},\"id\":\"1680\",\"type\":\"Toolbar\"},{\"attributes\":{\"end\":548193890.8,\"reset_end\":548193890.8,\"reset_start\":0.0,\"tags\":[[[\"ROI\",\"ROI\",null]]]},\"id\":\"1656\",\"type\":\"Range1d\"},{\"attributes\":{\"axis_label\":\"ROI\",\"bounds\":\"auto\",\"formatter\":{\"id\":\"1698\"},\"major_label_orientation\":\"horizontal\",\"ticker\":{\"id\":\"1671\"}},\"id\":\"1670\",\"type\":\"LinearAxis\"},{\"attributes\":{\"margin\":[5,5,5,5],\"name\":\"HSpacer02838\",\"sizing_mode\":\"stretch_width\"},\"id\":\"1654\",\"type\":\"Spacer\"},{\"attributes\":{\"bottom_units\":\"screen\",\"fill_alpha\":0.5,\"fill_color\":\"lightgrey\",\"left_units\":\"screen\",\"level\":\"overlay\",\"line_alpha\":1.0,\"line_color\":\"black\",\"line_dash\":[4,4],\"line_width\":2,\"right_units\":\"screen\",\"top_units\":\"screen\"},\"id\":\"1679\",\"type\":\"BoxAnnotation\"},{\"attributes\":{\"data_source\":{\"id\":\"1687\"},\"glyph\":{\"id\":\"1690\"},\"hover_glyph\":null,\"muted_glyph\":{\"id\":\"1692\"},\"nonselection_glyph\":{\"id\":\"1691\"},\"selection_glyph\":null,\"view\":{\"id\":\"1694\"}},\"id\":\"1693\",\"type\":\"GlyphRenderer\"},{\"attributes\":{},\"id\":\"1698\",\"type\":\"BasicTickFormatter\"},{\"attributes\":{\"axis\":{\"id\":\"1670\"},\"dimension\":1,\"grid_line_color\":null,\"ticker\":null},\"id\":\"1673\",\"type\":\"Grid\"},{\"attributes\":{\"fill_color\":{\"value\":\"#1f77b3\"},\"top\":{\"field\":\"ROI\"},\"width\":{\"value\":0.8},\"x\":{\"field\":\"movie_title\"}},\"id\":\"1690\",\"type\":\"VBar\"},{\"attributes\":{\"factors\":[\"Star Wars: Episode VI - Return of the Jedi\",\"The Lord of the Rings: The Return of the King\",\"American Sniper\",\"Deadpool\",\"The Dark Knight\",\"Star Wars: Episode I - The Phantom Menace\",\"The Avengers\",\"Star Wars: Episode IV - A New Hope\",\"Jurassic World\",\"Avatar\"],\"tags\":[[[\"movie_title\",\"movie_title\",null]]]},\"id\":\"1655\",\"type\":\"FactorRange\"},{\"attributes\":{\"fill_alpha\":{\"value\":0.1},\"fill_color\":{\"value\":\"#1f77b3\"},\"line_alpha\":{\"value\":0.1},\"top\":{\"field\":\"ROI\"},\"width\":{\"value\":0.8},\"x\":{\"field\":\"movie_title\"}},\"id\":\"1691\",\"type\":\"VBar\"},{\"attributes\":{\"data\":{\"ROI\":[276625409,283019252,291323553,305024263,348316061,359544677,403279547,449935665,502177271,523505847],\"movie_title\":[\"Star Wars: Episode VI - Return of the Jedi\",\"The Lord of the Rings: The Return of the King\",\"American Sniper\",\"Deadpool\",\"The Dark Knight\",\"Star Wars: Episode I - The Phantom Menace\",\"The Avengers\",\"Star Wars: Episode IV - A New Hope\",\"Jurassic World\",\"Avatar\"]},\"selected\":{\"id\":\"1688\"},\"selection_policy\":{\"id\":\"1705\"}},\"id\":\"1687\",\"type\":\"ColumnDataSource\"},{\"attributes\":{},\"id\":\"1695\",\"type\":\"CategoricalTickFormatter\"},{\"attributes\":{\"margin\":[5,5,5,5],\"name\":\"HSpacer02839\",\"sizing_mode\":\"stretch_width\"},\"id\":\"1715\",\"type\":\"Spacer\"}],\"root_ids\":[\"1653\"]},\"title\":\"Bokeh Application\",\"version\":\"2.2.3\"}};\n",
       "    var render_items = [{\"docid\":\"3fa8bd50-368b-4f80-a2dc-77c08768c270\",\"root_ids\":[\"1653\"],\"roots\":{\"1653\":\"2769ef69-45e9-4ede-8e9d-aa7e846ca3bc\"}}];\n",
       "    root.Bokeh.embed.embed_items_notebook(docs_json, render_items);\n",
       "  }\n",
       "  if (root.Bokeh !== undefined && root.Bokeh.Panel !== undefined) {\n",
       "    embed_document(root);\n",
       "  } else {\n",
       "    var attempts = 0;\n",
       "    var timer = setInterval(function(root) {\n",
       "      if (root.Bokeh !== undefined && root.Bokeh.Panel !== undefined) {\n",
       "        clearInterval(timer);\n",
       "        embed_document(root);\n",
       "      } else if (document.readyState == \"complete\") {\n",
       "        attempts++;\n",
       "        if (attempts > 100) {\n",
       "          clearInterval(timer);\n",
       "          console.log(\"Bokeh: ERROR: Unable to run BokehJS code because BokehJS library is missing\");\n",
       "        }\n",
       "      }\n",
       "    }, 10, root)\n",
       "  }\n",
       "})(window);</script>"
      ],
      "text/plain": [
       ":Bars   [movie_title]   (ROI)"
      ]
     },
     "execution_count": 11,
     "metadata": {
      "application/vnd.holoviews_exec.v0+json": {
       "id": "1653"
      }
     },
     "output_type": "execute_result"
    }
   ],
   "source": [
    "def plot_top_ten_roi(df, genre):\n",
    "    df_roi = df[df[genre] == 1].loc[:, ['ROI', 'movie_title']].sort_values(by='ROI').tail(10)\n",
    "    return df_roi.hvplot(\n",
    "            x='movie_title',\n",
    "            y='ROI',\n",
    "            rot=25,\n",
    "            title=f'Top Ten ROI Movies in {genre} Genre',\n",
    "            kind='bar')\n",
    "    \n",
    "plot_top_ten_roi(df.copy(), 'Action')"
   ]
  },
  {
   "cell_type": "code",
   "execution_count": 14,
   "metadata": {},
   "outputs": [
    {
     "data": {
      "application/vnd.holoviews_exec.v0+json": "",
      "text/html": [
       "<div id='1861'>\n",
       "\n",
       "\n",
       "\n",
       "\n",
       "\n",
       "  <div class=\"bk-root\" id=\"a3cea086-a630-4285-b84c-fe041e185c98\" data-root-id=\"1861\"></div>\n",
       "</div>\n",
       "<script type=\"application/javascript\">(function(root) {\n",
       "  function embed_document(root) {\n",
       "    var docs_json = {\"d50cd072-b211-4a81-be08-eb0d5aaaf0c6\":{\"roots\":{\"references\":[{\"attributes\":{\"margin\":[5,5,5,5],\"name\":\"HSpacer03140\",\"sizing_mode\":\"stretch_width\"},\"id\":\"1862\",\"type\":\"Spacer\"},{\"attributes\":{\"axis_label\":\"gross\",\"bounds\":\"auto\",\"formatter\":{\"id\":\"1906\"},\"major_label_orientation\":\"horizontal\",\"ticker\":{\"id\":\"1879\"}},\"id\":\"1878\",\"type\":\"LinearAxis\"},{\"attributes\":{},\"id\":\"1879\",\"type\":\"BasicTicker\"},{\"attributes\":{\"axis\":{\"id\":\"1878\"},\"dimension\":1,\"grid_line_color\":null,\"ticker\":null},\"id\":\"1881\",\"type\":\"Grid\"},{\"attributes\":{\"fill_color\":{\"value\":\"#1f77b3\"},\"top\":{\"field\":\"gross\"},\"width\":{\"value\":0.8},\"x\":{\"field\":\"movie_title\"}},\"id\":\"1898\",\"type\":\"VBar\"},{\"attributes\":{\"active_drag\":\"auto\",\"active_inspect\":\"auto\",\"active_multi\":null,\"active_scroll\":\"auto\",\"active_tap\":\"auto\",\"tools\":[{\"id\":\"1865\"},{\"id\":\"1882\"},{\"id\":\"1883\"},{\"id\":\"1884\"},{\"id\":\"1885\"},{\"id\":\"1886\"}]},\"id\":\"1888\",\"type\":\"Toolbar\"},{\"attributes\":{\"fill_alpha\":{\"value\":0.2},\"fill_color\":{\"value\":\"#1f77b3\"},\"line_alpha\":{\"value\":0.2},\"top\":{\"field\":\"gross\"},\"width\":{\"value\":0.8},\"x\":{\"field\":\"movie_title\"}},\"id\":\"1900\",\"type\":\"VBar\"},{\"attributes\":{},\"id\":\"1873\",\"type\":\"LinearScale\"},{\"attributes\":{\"data\":{\"gross\":[408992272,423032628,448130642,458991599,460935665,474544677,533316061,623279547,652177271,760505847],\"movie_title\":[\"Iron Man 3\",\"Pirates of the Caribbean: Dead Man's Chest\",\"The Dark Knight Rises\",\"Avengers: Age of Ultron\",\"Star Wars: Episode IV - A New Hope\",\"Star Wars: Episode I - The Phantom Menace\",\"The Dark Knight\",\"The Avengers\",\"Jurassic World\",\"Avatar\"]},\"selected\":{\"id\":\"1896\"},\"selection_policy\":{\"id\":\"1913\"}},\"id\":\"1895\",\"type\":\"ColumnDataSource\"},{\"attributes\":{\"bottom_units\":\"screen\",\"fill_alpha\":0.5,\"fill_color\":\"lightgrey\",\"left_units\":\"screen\",\"level\":\"overlay\",\"line_alpha\":1.0,\"line_color\":\"black\",\"line_dash\":[4,4],\"line_width\":2,\"right_units\":\"screen\",\"top_units\":\"screen\"},\"id\":\"1887\",\"type\":\"BoxAnnotation\"},{\"attributes\":{\"text\":\"Top Ten Grossing Movies in Action Genre\",\"text_color\":{\"value\":\"black\"},\"text_font_size\":{\"value\":\"12pt\"}},\"id\":\"1867\",\"type\":\"Title\"},{\"attributes\":{\"source\":{\"id\":\"1895\"}},\"id\":\"1902\",\"type\":\"CDSView\"},{\"attributes\":{\"data_source\":{\"id\":\"1895\"},\"glyph\":{\"id\":\"1898\"},\"hover_glyph\":null,\"muted_glyph\":{\"id\":\"1900\"},\"nonselection_glyph\":{\"id\":\"1899\"},\"selection_glyph\":null,\"view\":{\"id\":\"1902\"}},\"id\":\"1901\",\"type\":\"GlyphRenderer\"},{\"attributes\":{\"margin\":[5,5,5,5],\"name\":\"HSpacer03141\",\"sizing_mode\":\"stretch_width\"},\"id\":\"1923\",\"type\":\"Spacer\"},{\"attributes\":{\"fill_alpha\":{\"value\":0.1},\"fill_color\":{\"value\":\"#1f77b3\"},\"line_alpha\":{\"value\":0.1},\"top\":{\"field\":\"gross\"},\"width\":{\"value\":0.8},\"x\":{\"field\":\"movie_title\"}},\"id\":\"1899\",\"type\":\"VBar\"},{\"attributes\":{\"below\":[{\"id\":\"1875\"}],\"center\":[{\"id\":\"1877\"},{\"id\":\"1881\"}],\"left\":[{\"id\":\"1878\"}],\"margin\":[5,5,5,5],\"min_border_bottom\":10,\"min_border_left\":10,\"min_border_right\":10,\"min_border_top\":10,\"plot_height\":300,\"plot_width\":700,\"renderers\":[{\"id\":\"1901\"}],\"sizing_mode\":\"fixed\",\"title\":{\"id\":\"1867\"},\"toolbar\":{\"id\":\"1888\"},\"x_range\":{\"id\":\"1863\"},\"x_scale\":{\"id\":\"1871\"},\"y_range\":{\"id\":\"1864\"},\"y_scale\":{\"id\":\"1873\"}},\"id\":\"1866\",\"subtype\":\"Figure\",\"type\":\"Plot\"},{\"attributes\":{},\"id\":\"1882\",\"type\":\"SaveTool\"},{\"attributes\":{},\"id\":\"1883\",\"type\":\"PanTool\"},{\"attributes\":{},\"id\":\"1896\",\"type\":\"Selection\"},{\"attributes\":{},\"id\":\"1886\",\"type\":\"ResetTool\"},{\"attributes\":{},\"id\":\"1884\",\"type\":\"WheelZoomTool\"},{\"attributes\":{},\"id\":\"1913\",\"type\":\"UnionRenderers\"},{\"attributes\":{\"overlay\":{\"id\":\"1887\"}},\"id\":\"1885\",\"type\":\"BoxZoomTool\"},{\"attributes\":{\"factors\":[\"Iron Man 3\",\"Pirates of the Caribbean: Dead Man's Chest\",\"The Dark Knight Rises\",\"Avengers: Age of Ultron\",\"Star Wars: Episode IV - A New Hope\",\"Star Wars: Episode I - The Phantom Menace\",\"The Dark Knight\",\"The Avengers\",\"Jurassic World\",\"Avatar\"],\"tags\":[[[\"movie_title\",\"movie_title\",null]]]},\"id\":\"1863\",\"type\":\"FactorRange\"},{\"attributes\":{\"axis\":{\"id\":\"1875\"},\"grid_line_color\":null,\"ticker\":null},\"id\":\"1877\",\"type\":\"Grid\"},{\"attributes\":{},\"id\":\"1871\",\"type\":\"CategoricalScale\"},{\"attributes\":{},\"id\":\"1876\",\"type\":\"CategoricalTicker\"},{\"attributes\":{},\"id\":\"1906\",\"type\":\"BasicTickFormatter\"},{\"attributes\":{\"axis_label\":\"movie_title\",\"bounds\":\"auto\",\"formatter\":{\"id\":\"1903\"},\"major_label_orientation\":0.4363323129985824,\"ticker\":{\"id\":\"1876\"}},\"id\":\"1875\",\"type\":\"CategoricalAxis\"},{\"attributes\":{},\"id\":\"1903\",\"type\":\"CategoricalTickFormatter\"},{\"attributes\":{\"children\":[{\"id\":\"1862\"},{\"id\":\"1866\"},{\"id\":\"1923\"}],\"margin\":[0,0,0,0],\"name\":\"Row03136\",\"tags\":[\"embedded\"]},\"id\":\"1861\",\"type\":\"Row\"},{\"attributes\":{\"callback\":null,\"renderers\":[{\"id\":\"1901\"}],\"tags\":[\"hv_created\"],\"tooltips\":[[\"movie_title\",\"@{movie_title}\"],[\"gross\",\"@{gross}\"]]},\"id\":\"1865\",\"type\":\"HoverTool\"},{\"attributes\":{\"end\":795657204.5,\"reset_end\":795657204.5,\"reset_start\":0.0,\"tags\":[[[\"gross\",\"gross\",null]]]},\"id\":\"1864\",\"type\":\"Range1d\"}],\"root_ids\":[\"1861\"]},\"title\":\"Bokeh Application\",\"version\":\"2.2.3\"}};\n",
       "    var render_items = [{\"docid\":\"d50cd072-b211-4a81-be08-eb0d5aaaf0c6\",\"root_ids\":[\"1861\"],\"roots\":{\"1861\":\"a3cea086-a630-4285-b84c-fe041e185c98\"}}];\n",
       "    root.Bokeh.embed.embed_items_notebook(docs_json, render_items);\n",
       "  }\n",
       "  if (root.Bokeh !== undefined && root.Bokeh.Panel !== undefined) {\n",
       "    embed_document(root);\n",
       "  } else {\n",
       "    var attempts = 0;\n",
       "    var timer = setInterval(function(root) {\n",
       "      if (root.Bokeh !== undefined && root.Bokeh.Panel !== undefined) {\n",
       "        clearInterval(timer);\n",
       "        embed_document(root);\n",
       "      } else if (document.readyState == \"complete\") {\n",
       "        attempts++;\n",
       "        if (attempts > 100) {\n",
       "          clearInterval(timer);\n",
       "          console.log(\"Bokeh: ERROR: Unable to run BokehJS code because BokehJS library is missing\");\n",
       "        }\n",
       "      }\n",
       "    }, 10, root)\n",
       "  }\n",
       "})(window);</script>"
      ],
      "text/plain": [
       ":Bars   [movie_title]   (gross)"
      ]
     },
     "execution_count": 14,
     "metadata": {
      "application/vnd.holoviews_exec.v0+json": {
       "id": "1861"
      }
     },
     "output_type": "execute_result"
    }
   ],
   "source": [
    "def plot_top_ten_gross(df, genre):\n",
    "    df_gross = df[df[genre] == 1].loc[:, ['gross', 'movie_title']].sort_values(by='gross').tail(10)\n",
    "    return df_gross.hvplot(\n",
    "            x='movie_title',\n",
    "            y='gross',\n",
    "            rot=25,\n",
    "            title=f'Top Ten Grossing Movies in {genre} Genre',\n",
    "            kind='bar')\n",
    "    \n",
    "plot_top_ten_gross(df.copy(), 'Action')  "
   ]
  }
 ],
 "metadata": {
  "kernelspec": {
   "display_name": "Python 3",
   "language": "python",
   "name": "python3"
  },
  "language_info": {
   "codemirror_mode": {
    "name": "ipython",
    "version": 3
   },
   "file_extension": ".py",
   "mimetype": "text/x-python",
   "name": "python",
   "nbconvert_exporter": "python",
   "pygments_lexer": "ipython3",
   "version": "3.7.9"
  }
 },
 "nbformat": 4,
 "nbformat_minor": 4
}
