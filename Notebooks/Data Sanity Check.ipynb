{
 "cells": [
  {
   "cell_type": "markdown",
   "metadata": {},
   "source": [
    "# Sanity Check for Data"
   ]
  },
  {
   "cell_type": "code",
   "execution_count": 1,
   "metadata": {},
   "outputs": [],
   "source": [
    "import pandas as pd"
   ]
  },
  {
   "cell_type": "code",
   "execution_count": 4,
   "metadata": {},
   "outputs": [],
   "source": [
    "data_path = '../Data/rotten_tomato_movie_reviews.csv'\n",
    "df = pd.read_csv(data_path, index_col='Name')"
   ]
  },
  {
   "cell_type": "code",
   "execution_count": 6,
   "metadata": {},
   "outputs": [
    {
     "data": {
      "text/html": [
       "<div>\n",
       "<style scoped>\n",
       "    .dataframe tbody tr th:only-of-type {\n",
       "        vertical-align: middle;\n",
       "    }\n",
       "\n",
       "    .dataframe tbody tr th {\n",
       "        vertical-align: top;\n",
       "    }\n",
       "\n",
       "    .dataframe thead th {\n",
       "        text-align: right;\n",
       "    }\n",
       "</style>\n",
       "<table border=\"1\" class=\"dataframe\">\n",
       "  <thead>\n",
       "    <tr style=\"text-align: right;\">\n",
       "      <th></th>\n",
       "      <th>Rating</th>\n",
       "      <th>Directed By</th>\n",
       "      <th>Runtime</th>\n",
       "      <th>Studio</th>\n",
       "      <th>TOMATOMETER score</th>\n",
       "      <th>TOMATOMETER Count</th>\n",
       "      <th>AUDIENCE score</th>\n",
       "      <th>AUDIENCE count</th>\n",
       "    </tr>\n",
       "    <tr>\n",
       "      <th>Name</th>\n",
       "      <th></th>\n",
       "      <th></th>\n",
       "      <th></th>\n",
       "      <th></th>\n",
       "      <th></th>\n",
       "      <th></th>\n",
       "      <th></th>\n",
       "      <th></th>\n",
       "    </tr>\n",
       "  </thead>\n",
       "  <tbody>\n",
       "    <tr>\n",
       "      <th>The Angry Birds Movie 2</th>\n",
       "      <td>PG</td>\n",
       "      <td>Thurop Van Orman</td>\n",
       "      <td>100 minutes</td>\n",
       "      <td>Columbia Pictures</td>\n",
       "      <td>73%</td>\n",
       "      <td>107</td>\n",
       "      <td>84%</td>\n",
       "      <td>4023</td>\n",
       "    </tr>\n",
       "    <tr>\n",
       "      <th>Legend Of The Demon Cat (Kûkai)</th>\n",
       "      <td>NR</td>\n",
       "      <td>Kaige Chen</td>\n",
       "      <td>129 minutes</td>\n",
       "      <td>Well Go USA</td>\n",
       "      <td>91%</td>\n",
       "      <td>11</td>\n",
       "      <td>37%</td>\n",
       "      <td>74</td>\n",
       "    </tr>\n",
       "    <tr>\n",
       "      <th>Dora and the Lost City of Gold</th>\n",
       "      <td>PG</td>\n",
       "      <td>James Bobin</td>\n",
       "      <td>102 minutes</td>\n",
       "      <td>Paramount Pictures</td>\n",
       "      <td>84%</td>\n",
       "      <td>148</td>\n",
       "      <td>88%</td>\n",
       "      <td>6715</td>\n",
       "    </tr>\n",
       "    <tr>\n",
       "      <th>Luce</th>\n",
       "      <td>R</td>\n",
       "      <td>Julius Onah</td>\n",
       "      <td>109 minutes</td>\n",
       "      <td>NEON</td>\n",
       "      <td>91%</td>\n",
       "      <td>151</td>\n",
       "      <td>77%</td>\n",
       "      <td>284</td>\n",
       "    </tr>\n",
       "    <tr>\n",
       "      <th>Good Boys</th>\n",
       "      <td>R</td>\n",
       "      <td>Gene Stupnitsky</td>\n",
       "      <td>95 minutes</td>\n",
       "      <td>Universal Pictures</td>\n",
       "      <td>80%</td>\n",
       "      <td>237</td>\n",
       "      <td>86%</td>\n",
       "      <td>13007</td>\n",
       "    </tr>\n",
       "  </tbody>\n",
       "</table>\n",
       "</div>"
      ],
      "text/plain": [
       "                                Rating        Directed By             Runtime  \\\n",
       "Name                                                                            \n",
       "The Angry Birds Movie 2             PG   Thurop Van Orman     100 minutes       \n",
       "Legend Of The Demon Cat (Kûkai)     NR         Kaige Chen     129 minutes       \n",
       "Dora and the Lost City of Gold      PG        James Bobin     102 minutes       \n",
       "Luce                                 R        Julius Onah     109 minutes       \n",
       "Good Boys                            R    Gene Stupnitsky      95 minutes       \n",
       "\n",
       "                                                Studio TOMATOMETER score  \\\n",
       "Name                                                                       \n",
       "The Angry Birds Movie 2            Columbia Pictures             73%       \n",
       "Legend Of The Demon Cat (Kûkai)          Well Go USA             91%       \n",
       "Dora and the Lost City of Gold    Paramount Pictures             84%       \n",
       "Luce                                            NEON             91%       \n",
       "Good Boys                         Universal Pictures             80%       \n",
       "\n",
       "                                 TOMATOMETER Count AUDIENCE score  \\\n",
       "Name                                                                \n",
       "The Angry Birds Movie 2                        107        84%       \n",
       "Legend Of The Demon Cat (Kûkai)                 11        37%       \n",
       "Dora and the Lost City of Gold                 148        88%       \n",
       "Luce                                           151        77%       \n",
       "Good Boys                                      237        86%       \n",
       "\n",
       "                                 AUDIENCE count  \n",
       "Name                                             \n",
       "The Angry Birds Movie 2                    4023  \n",
       "Legend Of The Demon Cat (Kûkai)              74  \n",
       "Dora and the Lost City of Gold             6715  \n",
       "Luce                                        284  \n",
       "Good Boys                                 13007  "
      ]
     },
     "execution_count": 6,
     "metadata": {},
     "output_type": "execute_result"
    }
   ],
   "source": [
    "df.head()"
   ]
  },
  {
   "cell_type": "code",
   "execution_count": null,
   "metadata": {},
   "outputs": [],
   "source": []
  }
 ],
 "metadata": {
  "kernelspec": {
   "display_name": "Python 3",
   "language": "python",
   "name": "python3"
  },
  "language_info": {
   "codemirror_mode": {
    "name": "ipython",
    "version": 3
   },
   "file_extension": ".py",
   "mimetype": "text/x-python",
   "name": "python",
   "nbconvert_exporter": "python",
   "pygments_lexer": "ipython3",
   "version": "3.7.9"
  }
 },
 "nbformat": 4,
 "nbformat_minor": 4
}
